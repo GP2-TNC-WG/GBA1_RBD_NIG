{
  "nbformat": 4,
  "nbformat_minor": 0,
  "metadata": {
    "colab": {
      "provenance": []
    },
    "kernelspec": {
      "name": "python3",
      "display_name": "Python 3"
    },
    "language_info": {
      "name": "python"
    }
  },
  "cells": [
    {
      "cell_type": "markdown",
      "source": [
        "# REM sleep behavior disorder (RBD) and GBA1 rs3115534 association in the Nigerian population\n",
        " - **Project:** Investigate if the GBA1 rs3115534 variant is associated with RBD in the Nigerian population.\n",
        " - **Author(s):** Mike Nalls\n",
        "\n",
        "---\n",
        "### Quick Description:\n",
        "\n",
        "0.   Set up the environment.\n",
        "1.   Load in the data.\n",
        "2.   Basic linear regression for continuous scale (all, cases, controls).\n",
        "3.   Truncated scale at dichotmized value of >= 6 on the total scale.\n",
        "4.   Go to sleep.\n",
        "\n"
      ],
      "metadata": {
        "id": "PrYCvQgmeKX2"
      }
    },
    {
      "cell_type": "markdown",
      "source": [
        "# Getting started"
      ],
      "metadata": {
        "id": "fOapKmH1fj3f"
      }
    },
    {
      "cell_type": "code",
      "execution_count": null,
      "metadata": {
        "colab": {
          "base_uri": "https://localhost:8080/"
        },
        "id": "HE9uOQZOd0ch",
        "outputId": "c25bd714-04ee-413f-d139-8d5dc5d5ee6c"
      },
      "outputs": [
        {
          "output_type": "stream",
          "name": "stdout",
          "text": [
            "Mounted at /content/gdrive/\n"
          ]
        }
      ],
      "source": [
        "import os\n",
        "import sys\n",
        "from google.colab import drive\n",
        "drive.mount('/content/gdrive/', force_remount=True)\n",
        "os.chdir(\"/content/gdrive/Shared drives/CARD_Data Science/users/mike_nalls/Africa_GBA/RBD\")"
      ]
    },
    {
      "cell_type": "code",
      "source": [
        "! pwd"
      ],
      "metadata": {
        "colab": {
          "base_uri": "https://localhost:8080/"
        },
        "id": "ObIhVZ_8gfbb",
        "outputId": "639ac7a6-b544-44b8-d465-1945ae53e54b"
      },
      "execution_count": null,
      "outputs": [
        {
          "output_type": "stream",
          "name": "stdout",
          "text": [
            "/content/gdrive/Shareddrives/CARD_Data Science/users/mike_nalls/Africa_GBA/RBD\n"
          ]
        }
      ]
    },
    {
      "cell_type": "code",
      "source": [
        "import pandas as pd\n",
        "import statsmodels.formula.api as sm\n",
        "from scipy import stats\n"
      ],
      "metadata": {
        "id": "Te6ckMqIgkaK"
      },
      "execution_count": null,
      "outputs": []
    },
    {
      "cell_type": "markdown",
      "source": [
        "# Load up the data"
      ],
      "metadata": {
        "id": "IZd0TPmIf324"
      }
    },
    {
      "cell_type": "code",
      "source": [
        "df = pd.read_csv(\"NEW NIG COHORT GP2ID AND LAGOS ID AND RBD SCORES AND GBA1 STATUS.csv\", engine='c')\n",
        "df.describe()"
      ],
      "metadata": {
        "colab": {
          "base_uri": "https://localhost:8080/",
          "height": 367
        },
        "id": "ogwM4885f8AS",
        "outputId": "969a46b5-5b3e-48d9-868c-6df1d2bcf855"
      },
      "execution_count": null,
      "outputs": [
        {
          "output_type": "execute_result",
          "data": {
            "text/plain": [
              "         Serial no          SEX    PHENOTYPE  chr1:155235878:G:T_G  \\\n",
              "count  1544.000000  1544.000000  1544.000000           1497.000000   \n",
              "mean    759.433290     1.311528     1.476036              0.575818   \n",
              "std     536.207941     0.463268     0.499587              0.652865   \n",
              "min       1.000000     1.000000     1.000000              0.000000   \n",
              "25%     311.750000     1.000000     1.000000              0.000000   \n",
              "50%     697.500000     1.000000     1.000000              0.000000   \n",
              "75%    1083.250000     2.000000     2.000000              1.000000   \n",
              "max    2113.000000     2.000000     2.000000              2.000000   \n",
              "\n",
              "       age at study  age_of_onset  @1.Isometimeshaveveryvividdreams  \\\n",
              "count   1544.000000    735.000000                       1532.000000   \n",
              "mean      63.518135     59.685714                          0.486292   \n",
              "std        9.701290     10.426230                          0.499975   \n",
              "min       23.000000     17.000000                          0.000000   \n",
              "25%       58.000000     53.000000                          0.000000   \n",
              "50%       63.000000     60.000000                          0.000000   \n",
              "75%       70.000000     67.000000                          1.000000   \n",
              "max       98.000000     93.000000                          1.000000   \n",
              "\n",
              "       @2.Mydreamsfrequentlyhaveanaggressiveoractionpackedcontent  \\\n",
              "count                                        1532.000000            \n",
              "mean                                            0.244778            \n",
              "std                                             0.430096            \n",
              "min                                             0.000000            \n",
              "25%                                             0.000000            \n",
              "50%                                             0.000000            \n",
              "75%                                             0.000000            \n",
              "max                                             1.000000            \n",
              "\n",
              "       @3.Thedreamcontentsmostlymatchmynocturnalbehaviour  \\\n",
              "count                                        1532.000000    \n",
              "mean                                            0.199086    \n",
              "std                                             0.399443    \n",
              "min                                             0.000000    \n",
              "25%                                             0.000000    \n",
              "50%                                             0.000000    \n",
              "75%                                             0.000000    \n",
              "max                                             1.000000    \n",
              "\n",
              "       @4.IknowthatmyarmsorlegsmovewhenIsleep  ...  \\\n",
              "count                             1532.000000  ...   \n",
              "mean                                 0.183420  ...   \n",
              "std                                  0.387137  ...   \n",
              "min                                  0.000000  ...   \n",
              "25%                                  0.000000  ...   \n",
              "50%                                  0.000000  ...   \n",
              "75%                                  0.000000  ...   \n",
              "max                                  1.000000  ...   \n",
              "\n",
              "       @....speakingshoutingswearinglaughingloudly  \\\n",
              "count                                  1532.000000   \n",
              "mean                                      0.253916   \n",
              "std                                       0.435392   \n",
              "min                                       0.000000   \n",
              "25%                                       0.000000   \n",
              "50%                                       0.000000   \n",
              "75%                                       1.000000   \n",
              "max                                       1.000000   \n",
              "\n",
              "       @....suddenlimbmovementsfights  \\\n",
              "count                     1532.000000   \n",
              "mean                         0.148172   \n",
              "std                          0.355387   \n",
              "min                          0.000000   \n",
              "25%                          0.000000   \n",
              "50%                          0.000000   \n",
              "75%                          0.000000   \n",
              "max                          1.000000   \n",
              "\n",
              "       @....gesturescomplexmovementsthatareuselessduringsleepe.g.waving  \\\n",
              "count                                        1532.000000                  \n",
              "mean                                            0.078329                  \n",
              "std                                             0.268776                  \n",
              "min                                             0.000000                  \n",
              "25%                                             0.000000                  \n",
              "50%                                             0.000000                  \n",
              "75%                                             0.000000                  \n",
              "max                                             1.000000                  \n",
              "\n",
              "       @....knockingthingsovere.g.bedsidelampbookglasses  \\\n",
              "count                                        1532.000000   \n",
              "mean                                            0.057441   \n",
              "std                                             0.232760   \n",
              "min                                             0.000000   \n",
              "25%                                             0.000000   \n",
              "50%                                             0.000000   \n",
              "75%                                             0.000000   \n",
              "max                                             1.000000   \n",
              "\n",
              "       @7.Mymovementsawakeme  \\\n",
              "count            1532.000000   \n",
              "mean                0.144256   \n",
              "std                 0.351464   \n",
              "min                 0.000000   \n",
              "25%                 0.000000   \n",
              "50%                 0.000000   \n",
              "75%                 0.000000   \n",
              "max                 1.000000   \n",
              "\n",
              "       @8.AfterwakeningImostlyrememberthecontentofmydreamswell  \\\n",
              "count                                        1532.000000         \n",
              "mean                                            0.407311         \n",
              "std                                             0.491494         \n",
              "min                                             0.000000         \n",
              "25%                                             0.000000         \n",
              "50%                                             0.000000         \n",
              "75%                                             1.000000         \n",
              "max                                             1.000000         \n",
              "\n",
              "       @9.Mysleepisfrequentlydisturbed  @10.PDYesCTRNo  RBDSQSCORE/13  \\\n",
              "count                      1532.000000     1532.000000    1532.000000   \n",
              "mean                          0.163185        0.478460       2.926893   \n",
              "std                           0.369655        0.499699       2.978018   \n",
              "min                           0.000000        0.000000       0.000000   \n",
              "25%                           0.000000        0.000000       1.000000   \n",
              "50%                           0.000000        0.000000       2.000000   \n",
              "75%                           0.000000        1.000000       4.000000   \n",
              "max                           1.000000        1.000000      13.000000   \n",
              "\n",
              "           DATASET  \n",
              "count  1544.000000  \n",
              "mean      1.131477  \n",
              "std       0.338030  \n",
              "min       1.000000  \n",
              "25%       1.000000  \n",
              "50%       1.000000  \n",
              "75%       1.000000  \n",
              "max       2.000000  \n",
              "\n",
              "[8 rows x 21 columns]"
            ],
            "text/html": [
              "\n",
              "  <div id=\"df-573ace3d-16c3-46bc-9466-a26f3e1412c7\" class=\"colab-df-container\">\n",
              "    <div>\n",
              "<style scoped>\n",
              "    .dataframe tbody tr th:only-of-type {\n",
              "        vertical-align: middle;\n",
              "    }\n",
              "\n",
              "    .dataframe tbody tr th {\n",
              "        vertical-align: top;\n",
              "    }\n",
              "\n",
              "    .dataframe thead th {\n",
              "        text-align: right;\n",
              "    }\n",
              "</style>\n",
              "<table border=\"1\" class=\"dataframe\">\n",
              "  <thead>\n",
              "    <tr style=\"text-align: right;\">\n",
              "      <th></th>\n",
              "      <th>Serial no</th>\n",
              "      <th>SEX</th>\n",
              "      <th>PHENOTYPE</th>\n",
              "      <th>chr1:155235878:G:T_G</th>\n",
              "      <th>age at study</th>\n",
              "      <th>age_of_onset</th>\n",
              "      <th>@1.Isometimeshaveveryvividdreams</th>\n",
              "      <th>@2.Mydreamsfrequentlyhaveanaggressiveoractionpackedcontent</th>\n",
              "      <th>@3.Thedreamcontentsmostlymatchmynocturnalbehaviour</th>\n",
              "      <th>@4.IknowthatmyarmsorlegsmovewhenIsleep</th>\n",
              "      <th>...</th>\n",
              "      <th>@....speakingshoutingswearinglaughingloudly</th>\n",
              "      <th>@....suddenlimbmovementsfights</th>\n",
              "      <th>@....gesturescomplexmovementsthatareuselessduringsleepe.g.waving</th>\n",
              "      <th>@....knockingthingsovere.g.bedsidelampbookglasses</th>\n",
              "      <th>@7.Mymovementsawakeme</th>\n",
              "      <th>@8.AfterwakeningImostlyrememberthecontentofmydreamswell</th>\n",
              "      <th>@9.Mysleepisfrequentlydisturbed</th>\n",
              "      <th>@10.PDYesCTRNo</th>\n",
              "      <th>RBDSQSCORE/13</th>\n",
              "      <th>DATASET</th>\n",
              "    </tr>\n",
              "  </thead>\n",
              "  <tbody>\n",
              "    <tr>\n",
              "      <th>count</th>\n",
              "      <td>1544.000000</td>\n",
              "      <td>1544.000000</td>\n",
              "      <td>1544.000000</td>\n",
              "      <td>1497.000000</td>\n",
              "      <td>1544.000000</td>\n",
              "      <td>735.000000</td>\n",
              "      <td>1532.000000</td>\n",
              "      <td>1532.000000</td>\n",
              "      <td>1532.000000</td>\n",
              "      <td>1532.000000</td>\n",
              "      <td>...</td>\n",
              "      <td>1532.000000</td>\n",
              "      <td>1532.000000</td>\n",
              "      <td>1532.000000</td>\n",
              "      <td>1532.000000</td>\n",
              "      <td>1532.000000</td>\n",
              "      <td>1532.000000</td>\n",
              "      <td>1532.000000</td>\n",
              "      <td>1532.000000</td>\n",
              "      <td>1532.000000</td>\n",
              "      <td>1544.000000</td>\n",
              "    </tr>\n",
              "    <tr>\n",
              "      <th>mean</th>\n",
              "      <td>759.433290</td>\n",
              "      <td>1.311528</td>\n",
              "      <td>1.476036</td>\n",
              "      <td>0.575818</td>\n",
              "      <td>63.518135</td>\n",
              "      <td>59.685714</td>\n",
              "      <td>0.486292</td>\n",
              "      <td>0.244778</td>\n",
              "      <td>0.199086</td>\n",
              "      <td>0.183420</td>\n",
              "      <td>...</td>\n",
              "      <td>0.253916</td>\n",
              "      <td>0.148172</td>\n",
              "      <td>0.078329</td>\n",
              "      <td>0.057441</td>\n",
              "      <td>0.144256</td>\n",
              "      <td>0.407311</td>\n",
              "      <td>0.163185</td>\n",
              "      <td>0.478460</td>\n",
              "      <td>2.926893</td>\n",
              "      <td>1.131477</td>\n",
              "    </tr>\n",
              "    <tr>\n",
              "      <th>std</th>\n",
              "      <td>536.207941</td>\n",
              "      <td>0.463268</td>\n",
              "      <td>0.499587</td>\n",
              "      <td>0.652865</td>\n",
              "      <td>9.701290</td>\n",
              "      <td>10.426230</td>\n",
              "      <td>0.499975</td>\n",
              "      <td>0.430096</td>\n",
              "      <td>0.399443</td>\n",
              "      <td>0.387137</td>\n",
              "      <td>...</td>\n",
              "      <td>0.435392</td>\n",
              "      <td>0.355387</td>\n",
              "      <td>0.268776</td>\n",
              "      <td>0.232760</td>\n",
              "      <td>0.351464</td>\n",
              "      <td>0.491494</td>\n",
              "      <td>0.369655</td>\n",
              "      <td>0.499699</td>\n",
              "      <td>2.978018</td>\n",
              "      <td>0.338030</td>\n",
              "    </tr>\n",
              "    <tr>\n",
              "      <th>min</th>\n",
              "      <td>1.000000</td>\n",
              "      <td>1.000000</td>\n",
              "      <td>1.000000</td>\n",
              "      <td>0.000000</td>\n",
              "      <td>23.000000</td>\n",
              "      <td>17.000000</td>\n",
              "      <td>0.000000</td>\n",
              "      <td>0.000000</td>\n",
              "      <td>0.000000</td>\n",
              "      <td>0.000000</td>\n",
              "      <td>...</td>\n",
              "      <td>0.000000</td>\n",
              "      <td>0.000000</td>\n",
              "      <td>0.000000</td>\n",
              "      <td>0.000000</td>\n",
              "      <td>0.000000</td>\n",
              "      <td>0.000000</td>\n",
              "      <td>0.000000</td>\n",
              "      <td>0.000000</td>\n",
              "      <td>0.000000</td>\n",
              "      <td>1.000000</td>\n",
              "    </tr>\n",
              "    <tr>\n",
              "      <th>25%</th>\n",
              "      <td>311.750000</td>\n",
              "      <td>1.000000</td>\n",
              "      <td>1.000000</td>\n",
              "      <td>0.000000</td>\n",
              "      <td>58.000000</td>\n",
              "      <td>53.000000</td>\n",
              "      <td>0.000000</td>\n",
              "      <td>0.000000</td>\n",
              "      <td>0.000000</td>\n",
              "      <td>0.000000</td>\n",
              "      <td>...</td>\n",
              "      <td>0.000000</td>\n",
              "      <td>0.000000</td>\n",
              "      <td>0.000000</td>\n",
              "      <td>0.000000</td>\n",
              "      <td>0.000000</td>\n",
              "      <td>0.000000</td>\n",
              "      <td>0.000000</td>\n",
              "      <td>0.000000</td>\n",
              "      <td>1.000000</td>\n",
              "      <td>1.000000</td>\n",
              "    </tr>\n",
              "    <tr>\n",
              "      <th>50%</th>\n",
              "      <td>697.500000</td>\n",
              "      <td>1.000000</td>\n",
              "      <td>1.000000</td>\n",
              "      <td>0.000000</td>\n",
              "      <td>63.000000</td>\n",
              "      <td>60.000000</td>\n",
              "      <td>0.000000</td>\n",
              "      <td>0.000000</td>\n",
              "      <td>0.000000</td>\n",
              "      <td>0.000000</td>\n",
              "      <td>...</td>\n",
              "      <td>0.000000</td>\n",
              "      <td>0.000000</td>\n",
              "      <td>0.000000</td>\n",
              "      <td>0.000000</td>\n",
              "      <td>0.000000</td>\n",
              "      <td>0.000000</td>\n",
              "      <td>0.000000</td>\n",
              "      <td>0.000000</td>\n",
              "      <td>2.000000</td>\n",
              "      <td>1.000000</td>\n",
              "    </tr>\n",
              "    <tr>\n",
              "      <th>75%</th>\n",
              "      <td>1083.250000</td>\n",
              "      <td>2.000000</td>\n",
              "      <td>2.000000</td>\n",
              "      <td>1.000000</td>\n",
              "      <td>70.000000</td>\n",
              "      <td>67.000000</td>\n",
              "      <td>1.000000</td>\n",
              "      <td>0.000000</td>\n",
              "      <td>0.000000</td>\n",
              "      <td>0.000000</td>\n",
              "      <td>...</td>\n",
              "      <td>1.000000</td>\n",
              "      <td>0.000000</td>\n",
              "      <td>0.000000</td>\n",
              "      <td>0.000000</td>\n",
              "      <td>0.000000</td>\n",
              "      <td>1.000000</td>\n",
              "      <td>0.000000</td>\n",
              "      <td>1.000000</td>\n",
              "      <td>4.000000</td>\n",
              "      <td>1.000000</td>\n",
              "    </tr>\n",
              "    <tr>\n",
              "      <th>max</th>\n",
              "      <td>2113.000000</td>\n",
              "      <td>2.000000</td>\n",
              "      <td>2.000000</td>\n",
              "      <td>2.000000</td>\n",
              "      <td>98.000000</td>\n",
              "      <td>93.000000</td>\n",
              "      <td>1.000000</td>\n",
              "      <td>1.000000</td>\n",
              "      <td>1.000000</td>\n",
              "      <td>1.000000</td>\n",
              "      <td>...</td>\n",
              "      <td>1.000000</td>\n",
              "      <td>1.000000</td>\n",
              "      <td>1.000000</td>\n",
              "      <td>1.000000</td>\n",
              "      <td>1.000000</td>\n",
              "      <td>1.000000</td>\n",
              "      <td>1.000000</td>\n",
              "      <td>1.000000</td>\n",
              "      <td>13.000000</td>\n",
              "      <td>2.000000</td>\n",
              "    </tr>\n",
              "  </tbody>\n",
              "</table>\n",
              "<p>8 rows × 21 columns</p>\n",
              "</div>\n",
              "    <div class=\"colab-df-buttons\">\n",
              "\n",
              "  <div class=\"colab-df-container\">\n",
              "    <button class=\"colab-df-convert\" onclick=\"convertToInteractive('df-573ace3d-16c3-46bc-9466-a26f3e1412c7')\"\n",
              "            title=\"Convert this dataframe to an interactive table.\"\n",
              "            style=\"display:none;\">\n",
              "\n",
              "  <svg xmlns=\"http://www.w3.org/2000/svg\" height=\"24px\" viewBox=\"0 -960 960 960\">\n",
              "    <path d=\"M120-120v-720h720v720H120Zm60-500h600v-160H180v160Zm220 220h160v-160H400v160Zm0 220h160v-160H400v160ZM180-400h160v-160H180v160Zm440 0h160v-160H620v160ZM180-180h160v-160H180v160Zm440 0h160v-160H620v160Z\"/>\n",
              "  </svg>\n",
              "    </button>\n",
              "\n",
              "  <style>\n",
              "    .colab-df-container {\n",
              "      display:flex;\n",
              "      gap: 12px;\n",
              "    }\n",
              "\n",
              "    .colab-df-convert {\n",
              "      background-color: #E8F0FE;\n",
              "      border: none;\n",
              "      border-radius: 50%;\n",
              "      cursor: pointer;\n",
              "      display: none;\n",
              "      fill: #1967D2;\n",
              "      height: 32px;\n",
              "      padding: 0 0 0 0;\n",
              "      width: 32px;\n",
              "    }\n",
              "\n",
              "    .colab-df-convert:hover {\n",
              "      background-color: #E2EBFA;\n",
              "      box-shadow: 0px 1px 2px rgba(60, 64, 67, 0.3), 0px 1px 3px 1px rgba(60, 64, 67, 0.15);\n",
              "      fill: #174EA6;\n",
              "    }\n",
              "\n",
              "    .colab-df-buttons div {\n",
              "      margin-bottom: 4px;\n",
              "    }\n",
              "\n",
              "    [theme=dark] .colab-df-convert {\n",
              "      background-color: #3B4455;\n",
              "      fill: #D2E3FC;\n",
              "    }\n",
              "\n",
              "    [theme=dark] .colab-df-convert:hover {\n",
              "      background-color: #434B5C;\n",
              "      box-shadow: 0px 1px 3px 1px rgba(0, 0, 0, 0.15);\n",
              "      filter: drop-shadow(0px 1px 2px rgba(0, 0, 0, 0.3));\n",
              "      fill: #FFFFFF;\n",
              "    }\n",
              "  </style>\n",
              "\n",
              "    <script>\n",
              "      const buttonEl =\n",
              "        document.querySelector('#df-573ace3d-16c3-46bc-9466-a26f3e1412c7 button.colab-df-convert');\n",
              "      buttonEl.style.display =\n",
              "        google.colab.kernel.accessAllowed ? 'block' : 'none';\n",
              "\n",
              "      async function convertToInteractive(key) {\n",
              "        const element = document.querySelector('#df-573ace3d-16c3-46bc-9466-a26f3e1412c7');\n",
              "        const dataTable =\n",
              "          await google.colab.kernel.invokeFunction('convertToInteractive',\n",
              "                                                    [key], {});\n",
              "        if (!dataTable) return;\n",
              "\n",
              "        const docLinkHtml = 'Like what you see? Visit the ' +\n",
              "          '<a target=\"_blank\" href=https://colab.research.google.com/notebooks/data_table.ipynb>data table notebook</a>'\n",
              "          + ' to learn more about interactive tables.';\n",
              "        element.innerHTML = '';\n",
              "        dataTable['output_type'] = 'display_data';\n",
              "        await google.colab.output.renderOutput(dataTable, element);\n",
              "        const docLink = document.createElement('div');\n",
              "        docLink.innerHTML = docLinkHtml;\n",
              "        element.appendChild(docLink);\n",
              "      }\n",
              "    </script>\n",
              "  </div>\n",
              "\n",
              "\n",
              "<div id=\"df-1a055b27-8b90-4a33-b665-9a822833eb7b\">\n",
              "  <button class=\"colab-df-quickchart\" onclick=\"quickchart('df-1a055b27-8b90-4a33-b665-9a822833eb7b')\"\n",
              "            title=\"Suggest charts.\"\n",
              "            style=\"display:none;\">\n",
              "\n",
              "<svg xmlns=\"http://www.w3.org/2000/svg\" height=\"24px\"viewBox=\"0 0 24 24\"\n",
              "     width=\"24px\">\n",
              "    <g>\n",
              "        <path d=\"M19 3H5c-1.1 0-2 .9-2 2v14c0 1.1.9 2 2 2h14c1.1 0 2-.9 2-2V5c0-1.1-.9-2-2-2zM9 17H7v-7h2v7zm4 0h-2V7h2v10zm4 0h-2v-4h2v4z\"/>\n",
              "    </g>\n",
              "</svg>\n",
              "  </button>\n",
              "\n",
              "<style>\n",
              "  .colab-df-quickchart {\n",
              "      --bg-color: #E8F0FE;\n",
              "      --fill-color: #1967D2;\n",
              "      --hover-bg-color: #E2EBFA;\n",
              "      --hover-fill-color: #174EA6;\n",
              "      --disabled-fill-color: #AAA;\n",
              "      --disabled-bg-color: #DDD;\n",
              "  }\n",
              "\n",
              "  [theme=dark] .colab-df-quickchart {\n",
              "      --bg-color: #3B4455;\n",
              "      --fill-color: #D2E3FC;\n",
              "      --hover-bg-color: #434B5C;\n",
              "      --hover-fill-color: #FFFFFF;\n",
              "      --disabled-bg-color: #3B4455;\n",
              "      --disabled-fill-color: #666;\n",
              "  }\n",
              "\n",
              "  .colab-df-quickchart {\n",
              "    background-color: var(--bg-color);\n",
              "    border: none;\n",
              "    border-radius: 50%;\n",
              "    cursor: pointer;\n",
              "    display: none;\n",
              "    fill: var(--fill-color);\n",
              "    height: 32px;\n",
              "    padding: 0;\n",
              "    width: 32px;\n",
              "  }\n",
              "\n",
              "  .colab-df-quickchart:hover {\n",
              "    background-color: var(--hover-bg-color);\n",
              "    box-shadow: 0 1px 2px rgba(60, 64, 67, 0.3), 0 1px 3px 1px rgba(60, 64, 67, 0.15);\n",
              "    fill: var(--button-hover-fill-color);\n",
              "  }\n",
              "\n",
              "  .colab-df-quickchart-complete:disabled,\n",
              "  .colab-df-quickchart-complete:disabled:hover {\n",
              "    background-color: var(--disabled-bg-color);\n",
              "    fill: var(--disabled-fill-color);\n",
              "    box-shadow: none;\n",
              "  }\n",
              "\n",
              "  .colab-df-spinner {\n",
              "    border: 2px solid var(--fill-color);\n",
              "    border-color: transparent;\n",
              "    border-bottom-color: var(--fill-color);\n",
              "    animation:\n",
              "      spin 1s steps(1) infinite;\n",
              "  }\n",
              "\n",
              "  @keyframes spin {\n",
              "    0% {\n",
              "      border-color: transparent;\n",
              "      border-bottom-color: var(--fill-color);\n",
              "      border-left-color: var(--fill-color);\n",
              "    }\n",
              "    20% {\n",
              "      border-color: transparent;\n",
              "      border-left-color: var(--fill-color);\n",
              "      border-top-color: var(--fill-color);\n",
              "    }\n",
              "    30% {\n",
              "      border-color: transparent;\n",
              "      border-left-color: var(--fill-color);\n",
              "      border-top-color: var(--fill-color);\n",
              "      border-right-color: var(--fill-color);\n",
              "    }\n",
              "    40% {\n",
              "      border-color: transparent;\n",
              "      border-right-color: var(--fill-color);\n",
              "      border-top-color: var(--fill-color);\n",
              "    }\n",
              "    60% {\n",
              "      border-color: transparent;\n",
              "      border-right-color: var(--fill-color);\n",
              "    }\n",
              "    80% {\n",
              "      border-color: transparent;\n",
              "      border-right-color: var(--fill-color);\n",
              "      border-bottom-color: var(--fill-color);\n",
              "    }\n",
              "    90% {\n",
              "      border-color: transparent;\n",
              "      border-bottom-color: var(--fill-color);\n",
              "    }\n",
              "  }\n",
              "</style>\n",
              "\n",
              "  <script>\n",
              "    async function quickchart(key) {\n",
              "      const quickchartButtonEl =\n",
              "        document.querySelector('#' + key + ' button');\n",
              "      quickchartButtonEl.disabled = true;  // To prevent multiple clicks.\n",
              "      quickchartButtonEl.classList.add('colab-df-spinner');\n",
              "      try {\n",
              "        const charts = await google.colab.kernel.invokeFunction(\n",
              "            'suggestCharts', [key], {});\n",
              "      } catch (error) {\n",
              "        console.error('Error during call to suggestCharts:', error);\n",
              "      }\n",
              "      quickchartButtonEl.classList.remove('colab-df-spinner');\n",
              "      quickchartButtonEl.classList.add('colab-df-quickchart-complete');\n",
              "    }\n",
              "    (() => {\n",
              "      let quickchartButtonEl =\n",
              "        document.querySelector('#df-1a055b27-8b90-4a33-b665-9a822833eb7b button');\n",
              "      quickchartButtonEl.style.display =\n",
              "        google.colab.kernel.accessAllowed ? 'block' : 'none';\n",
              "    })();\n",
              "  </script>\n",
              "</div>\n",
              "    </div>\n",
              "  </div>\n"
            ]
          },
          "metadata": {},
          "execution_count": 4
        }
      ]
    },
    {
      "cell_type": "markdown",
      "source": [
        "# Munging data"
      ],
      "metadata": {
        "id": "ILL4bcBuhPWW"
      }
    },
    {
      "cell_type": "code",
      "source": [
        "df['FEMALE'] = df['SEX'] - 1\n",
        "df['PD'] = df['PHENOTYPE'] - 1\n",
        "df['DISEASE_DURATION'] = df['age at study'] - df['age_of_onset']\n",
        "df['RBD_case'] = df['RBDSQSCORE/13'].apply(lambda x: 1 if x >= 6 else 0)\n",
        "df['RBD_score'] = df['RBDSQSCORE/13']\n",
        "df['GBA_SNP'] = df['chr1:155235878:G:T_G']\n",
        "df['ENROLLMENT_AGE'] = df['age at study']\n",
        "df['CASE_AAO'] = df['age_of_onset']\n",
        "\n",
        "PD_cases_only_df = df[df['PD'] == 1]\n",
        "PD_controls_only_df = df[df['PD'] == 0]\n"
      ],
      "metadata": {
        "id": "U_0q7wnPhSnL"
      },
      "execution_count": null,
      "outputs": []
    },
    {
      "cell_type": "markdown",
      "source": [
        "# Regressions"
      ],
      "metadata": {
        "id": "9tA8p1raizbL"
      }
    },
    {
      "cell_type": "markdown",
      "source": [
        "### All samples linear model.\n",
        "Signficant at 2-sided P"
      ],
      "metadata": {
        "id": "VHWJ5EmvkC2t"
      }
    },
    {
      "cell_type": "code",
      "source": [
        "all_samples_model = sm.ols(formula='RBD_score ~ GBA_SNP + PD + FEMALE + ENROLLMENT_AGE ', data=df).fit()\n",
        "print(all_samples_model.summary())"
      ],
      "metadata": {
        "colab": {
          "base_uri": "https://localhost:8080/"
        },
        "id": "S7Lx4djUi3_M",
        "outputId": "610fd253-bd61-4dac-fcbd-73b003885a5e"
      },
      "execution_count": null,
      "outputs": [
        {
          "output_type": "stream",
          "name": "stdout",
          "text": [
            "                            OLS Regression Results                            \n",
            "==============================================================================\n",
            "Dep. Variable:              RBD_score   R-squared:                       0.179\n",
            "Model:                            OLS   Adj. R-squared:                  0.177\n",
            "Method:                 Least Squares   F-statistic:                     80.92\n",
            "Date:                Wed, 13 Sep 2023   Prob (F-statistic):           3.64e-62\n",
            "Time:                        17:40:42   Log-Likelihood:                -3566.4\n",
            "No. Observations:                1485   AIC:                             7143.\n",
            "Df Residuals:                    1480   BIC:                             7169.\n",
            "Df Model:                           4                                         \n",
            "Covariance Type:            nonrobust                                         \n",
            "==================================================================================\n",
            "                     coef    std err          t      P>|t|      [0.025      0.975]\n",
            "----------------------------------------------------------------------------------\n",
            "Intercept          1.2425      0.478      2.599      0.009       0.305       2.180\n",
            "GBA_SNP            0.2542      0.108      2.350      0.019       0.042       0.466\n",
            "PD                 2.3505      0.141     16.628      0.000       2.073       2.628\n",
            "FEMALE            -0.4545      0.151     -3.018      0.003      -0.750      -0.159\n",
            "ENROLLMENT_AGE     0.0085      0.007      1.180      0.238      -0.006       0.023\n",
            "==============================================================================\n",
            "Omnibus:                      243.971   Durbin-Watson:                   1.720\n",
            "Prob(Omnibus):                  0.000   Jarque-Bera (JB):              375.801\n",
            "Skew:                           1.146   Prob(JB):                     2.49e-82\n",
            "Kurtosis:                       3.908   Cond. No.                         444.\n",
            "==============================================================================\n",
            "\n",
            "Notes:\n",
            "[1] Standard Errors assume that the covariance matrix of the errors is correctly specified.\n"
          ]
        }
      ]
    },
    {
      "cell_type": "markdown",
      "source": [
        "# Regressions without PD adjustment\n"
      ],
      "metadata": {
        "id": "OYkylr0hIlzG"
      }
    },
    {
      "cell_type": "code",
      "source": [
        "all_samples_model = sm.ols(formula='RBD_score ~ GBA_SNP + FEMALE + ENROLLMENT_AGE ', data=df).fit()\n",
        "print(all_samples_model.summary())"
      ],
      "metadata": {
        "colab": {
          "base_uri": "https://localhost:8080/"
        },
        "id": "YP7NHWuLIp29",
        "outputId": "3dd46b1c-f030-4c84-e9a1-0ca8099123ec"
      },
      "execution_count": null,
      "outputs": [
        {
          "output_type": "stream",
          "name": "stdout",
          "text": [
            "                            OLS Regression Results                            \n",
            "==============================================================================\n",
            "Dep. Variable:              RBD_score   R-squared:                       0.026\n",
            "Model:                            OLS   Adj. R-squared:                  0.024\n",
            "Method:                 Least Squares   F-statistic:                     13.26\n",
            "Date:                Wed, 13 Sep 2023   Prob (F-statistic):           1.52e-08\n",
            "Time:                        17:41:52   Log-Likelihood:                -3693.6\n",
            "No. Observations:                1485   AIC:                             7395.\n",
            "Df Residuals:                    1481   BIC:                             7416.\n",
            "Df Model:                           3                                         \n",
            "Covariance Type:            nonrobust                                         \n",
            "==================================================================================\n",
            "                     coef    std err          t      P>|t|      [0.025      0.975]\n",
            "----------------------------------------------------------------------------------\n",
            "Intercept          2.0085      0.518      3.875      0.000       0.992       3.025\n",
            "GBA_SNP            0.5509      0.116      4.742      0.000       0.323       0.779\n",
            "FEMALE            -0.6239      0.164     -3.812      0.000      -0.945      -0.303\n",
            "ENROLLMENT_AGE     0.0123      0.008      1.561      0.119      -0.003       0.028\n",
            "==============================================================================\n",
            "Omnibus:                      299.793   Durbin-Watson:                   1.460\n",
            "Prob(Omnibus):                  0.000   Jarque-Bera (JB):              511.903\n",
            "Skew:                           1.302   Prob(JB):                    6.95e-112\n",
            "Kurtosis:                       4.220   Cond. No.                         442.\n",
            "==============================================================================\n",
            "\n",
            "Notes:\n",
            "[1] Standard Errors assume that the covariance matrix of the errors is correctly specified.\n"
          ]
        }
      ]
    },
    {
      "cell_type": "markdown",
      "source": [
        "Another big win, these were a great set of ~150 samples."
      ],
      "metadata": {
        "id": "n2CKdvV9I42j"
      }
    },
    {
      "cell_type": "code",
      "source": [
        "from scipy.stats import norm\n",
        "\n",
        "coeff = 0.5509\n",
        "SD = 0.116\n",
        "\n",
        "z_score = coeff/SD\n",
        "\n",
        "p_value = 2 * norm.sf(abs(z_score))\n",
        "print(p_value)"
      ],
      "metadata": {
        "colab": {
          "base_uri": "https://localhost:8080/"
        },
        "id": "VOtunamhJAY5",
        "outputId": "25b5ccca-9083-422a-edad-7f6a93d06cef"
      },
      "execution_count": null,
      "outputs": [
        {
          "output_type": "stream",
          "name": "stdout",
          "text": [
            "2.0428558268894587e-06\n"
          ]
        }
      ]
    },
    {
      "cell_type": "markdown",
      "source": [
        "### Linear model in PD cases only.\n",
        "Another winning 2-sided p-value!"
      ],
      "metadata": {
        "id": "L9Q8b4Bpki7j"
      }
    },
    {
      "cell_type": "code",
      "source": [
        "PD_cases_model = sm.ols(formula='RBD_score ~ GBA_SNP + FEMALE + CASE_AAO + DISEASE_DURATION', data=PD_cases_only_df).fit()\n",
        "print(PD_cases_model.summary())"
      ],
      "metadata": {
        "colab": {
          "base_uri": "https://localhost:8080/"
        },
        "id": "-jIEU8UUkm0B",
        "outputId": "c0e392c3-31e4-4b07-84ec-d77fd6856efb"
      },
      "execution_count": null,
      "outputs": [
        {
          "output_type": "stream",
          "name": "stdout",
          "text": [
            "                            OLS Regression Results                            \n",
            "==============================================================================\n",
            "Dep. Variable:              RBD_score   R-squared:                       0.013\n",
            "Model:                            OLS   Adj. R-squared:                  0.007\n",
            "Method:                 Least Squares   F-statistic:                     2.329\n",
            "Date:                Wed, 13 Sep 2023   Prob (F-statistic):             0.0548\n",
            "Time:                        17:44:15   Log-Likelihood:                -1835.5\n",
            "No. Observations:                 709   AIC:                             3681.\n",
            "Df Residuals:                     704   BIC:                             3704.\n",
            "Df Model:                           4                                         \n",
            "Covariance Type:            nonrobust                                         \n",
            "====================================================================================\n",
            "                       coef    std err          t      P>|t|      [0.025      0.975]\n",
            "------------------------------------------------------------------------------------\n",
            "Intercept            3.6620      0.817      4.484      0.000       2.059       5.265\n",
            "GBA_SNP              0.4166      0.174      2.400      0.017       0.076       0.757\n",
            "FEMALE              -0.5014      0.272     -1.843      0.066      -1.035       0.033\n",
            "CASE_AAO             0.0059      0.012      0.480      0.632      -0.018       0.030\n",
            "DISEASE_DURATION     0.0056      0.031      0.184      0.854      -0.055       0.066\n",
            "==============================================================================\n",
            "Omnibus:                       79.716   Durbin-Watson:                   1.717\n",
            "Prob(Omnibus):                  0.000   Jarque-Bera (JB):              106.450\n",
            "Skew:                           0.948   Prob(JB):                     7.67e-24\n",
            "Kurtosis:                       2.890   Cond. No.                         410.\n",
            "==============================================================================\n",
            "\n",
            "Notes:\n",
            "[1] Standard Errors assume that the covariance matrix of the errors is correctly specified.\n"
          ]
        }
      ]
    },
    {
      "cell_type": "markdown",
      "source": [
        "### Check controls for another linear model."
      ],
      "metadata": {
        "id": "M4LmJvWJlCVZ"
      }
    },
    {
      "cell_type": "code",
      "source": [
        "PD_controls_model = sm.ols(formula='RBD_score ~ GBA_SNP + FEMALE + ENROLLMENT_AGE', data=PD_controls_only_df).fit()\n",
        "print(PD_controls_model.summary())"
      ],
      "metadata": {
        "colab": {
          "base_uri": "https://localhost:8080/"
        },
        "id": "aSSF4-EQlHGo",
        "outputId": "ab87c459-2e77-4c71-9805-a411a5e14bea"
      },
      "execution_count": null,
      "outputs": [
        {
          "output_type": "stream",
          "name": "stdout",
          "text": [
            "                            OLS Regression Results                            \n",
            "==============================================================================\n",
            "Dep. Variable:              RBD_score   R-squared:                       0.013\n",
            "Model:                            OLS   Adj. R-squared:                  0.010\n",
            "Method:                 Least Squares   F-statistic:                     3.486\n",
            "Date:                Wed, 13 Sep 2023   Prob (F-statistic):             0.0155\n",
            "Time:                        17:44:05   Log-Likelihood:                -1652.4\n",
            "No. Observations:                 776   AIC:                             3313.\n",
            "Df Residuals:                     772   BIC:                             3331.\n",
            "Df Model:                           3                                         \n",
            "Covariance Type:            nonrobust                                         \n",
            "==================================================================================\n",
            "                     coef    std err          t      P>|t|      [0.025      0.975]\n",
            "----------------------------------------------------------------------------------\n",
            "Intercept          1.0269      0.516      1.991      0.047       0.015       2.039\n",
            "GBA_SNP            0.0258      0.126      0.204      0.838      -0.222       0.273\n",
            "FEMALE            -0.4120      0.155     -2.664      0.008      -0.715      -0.108\n",
            "ENROLLMENT_AGE     0.0134      0.008      1.691      0.091      -0.002       0.029\n",
            "==============================================================================\n",
            "Omnibus:                      223.733   Durbin-Watson:                   1.708\n",
            "Prob(Omnibus):                  0.000   Jarque-Bera (JB):              532.635\n",
            "Skew:                           1.529   Prob(JB):                    2.19e-116\n",
            "Kurtosis:                       5.668   Cond. No.                         452.\n",
            "==============================================================================\n",
            "\n",
            "Notes:\n",
            "[1] Standard Errors assume that the covariance matrix of the errors is correctly specified.\n"
          ]
        }
      ]
    },
    {
      "cell_type": "markdown",
      "source": [
        "### Logistic regression model for all the samples\n",
        "1-sided p-value = 0.0355 for the GBA SNP."
      ],
      "metadata": {
        "id": "wfJrgyR1lnOC"
      }
    },
    {
      "cell_type": "code",
      "source": [
        "all_samples_model = sm.logit(formula='RBD_case ~ GBA_SNP + PD + FEMALE + ENROLLMENT_AGE ', data=df).fit()\n",
        "print(all_samples_model.summary())"
      ],
      "metadata": {
        "colab": {
          "base_uri": "https://localhost:8080/"
        },
        "id": "wuy0S6B2lrFM",
        "outputId": "23faa486-56fb-4f17-ca2c-90c9c175ef75"
      },
      "execution_count": null,
      "outputs": [
        {
          "output_type": "stream",
          "name": "stdout",
          "text": [
            "Optimization terminated successfully.\n",
            "         Current function value: 0.406072\n",
            "         Iterations 7\n",
            "                           Logit Regression Results                           \n",
            "==============================================================================\n",
            "Dep. Variable:               RBD_case   No. Observations:                 1497\n",
            "Model:                          Logit   Df Residuals:                     1492\n",
            "Method:                           MLE   Df Model:                            4\n",
            "Date:                Wed, 13 Sep 2023   Pseudo R-squ.:                  0.1019\n",
            "Time:                        17:45:22   Log-Likelihood:                -607.89\n",
            "converged:                       True   LL-Null:                       -676.90\n",
            "Covariance Type:            nonrobust   LLR p-value:                 7.498e-29\n",
            "==================================================================================\n",
            "                     coef    std err          z      P>|z|      [0.025      0.975]\n",
            "----------------------------------------------------------------------------------\n",
            "Intercept         -3.1771      0.509     -6.246      0.000      -4.174      -2.180\n",
            "GBA_SNP            0.1912      0.106      1.808      0.071      -0.016       0.399\n",
            "PD                 1.6751      0.169      9.927      0.000       1.344       2.006\n",
            "FEMALE            -0.2661      0.165     -1.609      0.108      -0.590       0.058\n",
            "ENROLLMENT_AGE     0.0078      0.007      1.050      0.294      -0.007       0.022\n",
            "==================================================================================\n"
          ]
        }
      ]
    },
    {
      "cell_type": "markdown",
      "source": [
        "# Drop PD status."
      ],
      "metadata": {
        "id": "7UIyADVksRI1"
      }
    },
    {
      "cell_type": "code",
      "source": [
        "all_samples_model = sm.logit(formula='RBD_case ~ GBA_SNP + FEMALE + ENROLLMENT_AGE ', data=df).fit()\n",
        "print(all_samples_model.summary())"
      ],
      "metadata": {
        "colab": {
          "base_uri": "https://localhost:8080/"
        },
        "id": "C_SpkZuQsTyo",
        "outputId": "f17e690d-68aa-428e-c741-e2c5a68375d2"
      },
      "execution_count": null,
      "outputs": [
        {
          "output_type": "stream",
          "name": "stdout",
          "text": [
            "Optimization terminated successfully.\n",
            "         Current function value: 0.445754\n",
            "         Iterations 6\n",
            "                           Logit Regression Results                           \n",
            "==============================================================================\n",
            "Dep. Variable:               RBD_case   No. Observations:                 1497\n",
            "Model:                          Logit   Df Residuals:                     1493\n",
            "Method:                           MLE   Df Model:                            3\n",
            "Date:                Wed, 13 Sep 2023   Pseudo R-squ.:                 0.01419\n",
            "Time:                        17:57:57   Log-Likelihood:                -667.29\n",
            "converged:                       True   LL-Null:                       -676.90\n",
            "Covariance Type:            nonrobust   LLR p-value:                 0.0002474\n",
            "==================================================================================\n",
            "                     coef    std err          z      P>|z|      [0.025      0.975]\n",
            "----------------------------------------------------------------------------------\n",
            "Intercept         -2.3298      0.485     -4.800      0.000      -3.281      -1.378\n",
            "GBA_SNP            0.3640      0.103      3.548      0.000       0.163       0.565\n",
            "FEMALE            -0.3571      0.159     -2.245      0.025      -0.669      -0.045\n",
            "ENROLLMENT_AGE     0.0094      0.007      1.290      0.197      -0.005       0.024\n",
            "==================================================================================\n"
          ]
        }
      ]
    },
    {
      "cell_type": "code",
      "source": [
        "from scipy.stats import norm\n",
        "\n",
        "coeff = 0.3640\n",
        "SD = 0.103\n",
        "\n",
        "z_score = coeff/SD\n",
        "\n",
        "p_value = 2 * norm.sf(abs(z_score))\n",
        "print(p_value)"
      ],
      "metadata": {
        "colab": {
          "base_uri": "https://localhost:8080/"
        },
        "id": "hNBva82fsZxK",
        "outputId": "c6fb6ec9-a4cc-4c77-c42d-f19d7ca51225"
      },
      "execution_count": null,
      "outputs": [
        {
          "output_type": "stream",
          "name": "stdout",
          "text": [
            "0.00040935115054589874\n"
          ]
        }
      ]
    },
    {
      "cell_type": "markdown",
      "source": [
        "### Logistic model in PD cases-only\n",
        "1-sided P @ 0.042 for the SNP here now."
      ],
      "metadata": {
        "id": "WbaIgXk9mhmM"
      }
    },
    {
      "cell_type": "code",
      "source": [
        "PD_cases_model = sm.logit(formula='RBD_case ~ GBA_SNP + FEMALE + CASE_AAO + DISEASE_DURATION', data=PD_cases_only_df).fit()\n",
        "print(PD_cases_model.summary())"
      ],
      "metadata": {
        "colab": {
          "base_uri": "https://localhost:8080/"
        },
        "id": "-sje4tkmmn8V",
        "outputId": "80678472-b626-4d24-e1f4-08359e8cf96c"
      },
      "execution_count": null,
      "outputs": [
        {
          "output_type": "stream",
          "name": "stdout",
          "text": [
            "Optimization terminated successfully.\n",
            "         Current function value: 0.590874\n",
            "         Iterations 5\n",
            "                           Logit Regression Results                           \n",
            "==============================================================================\n",
            "Dep. Variable:               RBD_case   No. Observations:                  711\n",
            "Model:                          Logit   Df Residuals:                      706\n",
            "Method:                           MLE   Df Model:                            4\n",
            "Date:                Wed, 13 Sep 2023   Pseudo R-squ.:                0.005550\n",
            "Time:                        17:45:59   Log-Likelihood:                -420.11\n",
            "converged:                       True   LL-Null:                       -422.46\n",
            "Covariance Type:            nonrobust   LLR p-value:                    0.3207\n",
            "====================================================================================\n",
            "                       coef    std err          z      P>|z|      [0.025      0.975]\n",
            "------------------------------------------------------------------------------------\n",
            "Intercept           -1.2669      0.564     -2.246      0.025      -2.372      -0.161\n",
            "GBA_SNP              0.2034      0.118      1.726      0.084      -0.028       0.434\n",
            "FEMALE              -0.1665      0.191     -0.872      0.383      -0.541       0.208\n",
            "CASE_AAO             0.0024      0.008      0.278      0.781      -0.014       0.019\n",
            "DISEASE_DURATION     0.0212      0.021      1.028      0.304      -0.019       0.062\n",
            "====================================================================================\n"
          ]
        }
      ]
    },
    {
      "cell_type": "markdown",
      "source": [
        "### Logistic model in controls."
      ],
      "metadata": {
        "id": "rdWAvoTQmyVA"
      }
    },
    {
      "cell_type": "code",
      "source": [
        "PD_controls_model = sm.logit(formula='RBD_case ~ GBA_SNP + FEMALE + ENROLLMENT_AGE', data=PD_controls_only_df).fit()\n",
        "print(PD_controls_model.summary())"
      ],
      "metadata": {
        "colab": {
          "base_uri": "https://localhost:8080/"
        },
        "id": "wNxTah7Xm1ts",
        "outputId": "614c142a-a0e0-4feb-ab5d-b92e89d453e6"
      },
      "execution_count": null,
      "outputs": [
        {
          "output_type": "stream",
          "name": "stdout",
          "text": [
            "Optimization terminated successfully.\n",
            "         Current function value: 0.236842\n",
            "         Iterations 7\n",
            "                           Logit Regression Results                           \n",
            "==============================================================================\n",
            "Dep. Variable:               RBD_case   No. Observations:                  786\n",
            "Model:                          Logit   Df Residuals:                      782\n",
            "Method:                           MLE   Df Model:                            3\n",
            "Date:                Wed, 13 Sep 2023   Pseudo R-squ.:                 0.01399\n",
            "Time:                        17:46:42   Log-Likelihood:                -186.16\n",
            "converged:                       True   LL-Null:                       -188.80\n",
            "Covariance Type:            nonrobust   LLR p-value:                    0.1521\n",
            "==================================================================================\n",
            "                     coef    std err          z      P>|z|      [0.025      0.975]\n",
            "----------------------------------------------------------------------------------\n",
            "Intercept         -4.0670      1.061     -3.833      0.000      -6.147      -1.987\n",
            "GBA_SNP            0.1014      0.244      0.415      0.678      -0.377       0.580\n",
            "FEMALE            -0.5374      0.340     -1.582      0.114      -1.203       0.128\n",
            "ENROLLMENT_AGE     0.0234      0.016      1.470      0.142      -0.008       0.055\n",
            "==================================================================================\n"
          ]
        }
      ]
    }
  ]
}